{
  "cells": [
    {
      "cell_type": "markdown",
      "metadata": {
        "vscode": {
          "languageId": "bat"
        },
        "id": "W6mZSHTMSQV-"
      },
      "source": [
        "# Hedonic Pricing\n",
        "\n",
        "We often try to predict the price of an asset from its observable characteristics. This is generally called **hedonic pricing**: How do the unit's characteristics determine its market price?\n",
        "\n",
        "In the lab folder, there are three options: housing prices in pierce_county_house_sales.csv, car prices in cars_hw.csv, and airbnb rental prices in airbnb_hw.csv. If you know of another suitable dataset, please feel free to use that one.\n",
        "\n"
      ]
    },
    {
      "cell_type": "markdown",
      "source": [
        "1. Clean the data and perform some EDA and visualization to get to know the data set."
      ],
      "metadata": {
        "id": "PEXV1Gzs9Ons"
      }
    },
    {
      "cell_type": "code",
      "source": [
        "import pandas as pd\n",
        "import numpy as np\n",
        "import seaborn as sns\n",
        "\n",
        "from google.colab import files\n",
        "\n",
        "uploaded = files.upload()\n",
        "\n",
        "import io\n",
        "df = pd.read_csv(io.BytesIO(uploaded['cars_hw.csv']))\n",
        "\n",
        "df0 = df\n",
        "sns.boxplot(data=df)"
      ],
      "metadata": {
        "colab": {
          "base_uri": "https://localhost:8080/",
          "height": 520
        },
        "id": "xbNQDolC8a-L",
        "outputId": "4e1ef4a5-806a-4c6d-fe1f-18d9cb63d0ba"
      },
      "execution_count": 1,
      "outputs": [
        {
          "output_type": "display_data",
          "data": {
            "text/plain": [
              "<IPython.core.display.HTML object>"
            ],
            "text/html": [
              "\n",
              "     <input type=\"file\" id=\"files-d49a2657-f0cc-4463-8764-314af8aa4bfb\" name=\"files[]\" multiple disabled\n",
              "        style=\"border:none\" />\n",
              "     <output id=\"result-d49a2657-f0cc-4463-8764-314af8aa4bfb\">\n",
              "      Upload widget is only available when the cell has been executed in the\n",
              "      current browser session. Please rerun this cell to enable.\n",
              "      </output>\n",
              "      <script>// Copyright 2017 Google LLC\n",
              "//\n",
              "// Licensed under the Apache License, Version 2.0 (the \"License\");\n",
              "// you may not use this file except in compliance with the License.\n",
              "// You may obtain a copy of the License at\n",
              "//\n",
              "//      http://www.apache.org/licenses/LICENSE-2.0\n",
              "//\n",
              "// Unless required by applicable law or agreed to in writing, software\n",
              "// distributed under the License is distributed on an \"AS IS\" BASIS,\n",
              "// WITHOUT WARRANTIES OR CONDITIONS OF ANY KIND, either express or implied.\n",
              "// See the License for the specific language governing permissions and\n",
              "// limitations under the License.\n",
              "\n",
              "/**\n",
              " * @fileoverview Helpers for google.colab Python module.\n",
              " */\n",
              "(function(scope) {\n",
              "function span(text, styleAttributes = {}) {\n",
              "  const element = document.createElement('span');\n",
              "  element.textContent = text;\n",
              "  for (const key of Object.keys(styleAttributes)) {\n",
              "    element.style[key] = styleAttributes[key];\n",
              "  }\n",
              "  return element;\n",
              "}\n",
              "\n",
              "// Max number of bytes which will be uploaded at a time.\n",
              "const MAX_PAYLOAD_SIZE = 100 * 1024;\n",
              "\n",
              "function _uploadFiles(inputId, outputId) {\n",
              "  const steps = uploadFilesStep(inputId, outputId);\n",
              "  const outputElement = document.getElementById(outputId);\n",
              "  // Cache steps on the outputElement to make it available for the next call\n",
              "  // to uploadFilesContinue from Python.\n",
              "  outputElement.steps = steps;\n",
              "\n",
              "  return _uploadFilesContinue(outputId);\n",
              "}\n",
              "\n",
              "// This is roughly an async generator (not supported in the browser yet),\n",
              "// where there are multiple asynchronous steps and the Python side is going\n",
              "// to poll for completion of each step.\n",
              "// This uses a Promise to block the python side on completion of each step,\n",
              "// then passes the result of the previous step as the input to the next step.\n",
              "function _uploadFilesContinue(outputId) {\n",
              "  const outputElement = document.getElementById(outputId);\n",
              "  const steps = outputElement.steps;\n",
              "\n",
              "  const next = steps.next(outputElement.lastPromiseValue);\n",
              "  return Promise.resolve(next.value.promise).then((value) => {\n",
              "    // Cache the last promise value to make it available to the next\n",
              "    // step of the generator.\n",
              "    outputElement.lastPromiseValue = value;\n",
              "    return next.value.response;\n",
              "  });\n",
              "}\n",
              "\n",
              "/**\n",
              " * Generator function which is called between each async step of the upload\n",
              " * process.\n",
              " * @param {string} inputId Element ID of the input file picker element.\n",
              " * @param {string} outputId Element ID of the output display.\n",
              " * @return {!Iterable<!Object>} Iterable of next steps.\n",
              " */\n",
              "function* uploadFilesStep(inputId, outputId) {\n",
              "  const inputElement = document.getElementById(inputId);\n",
              "  inputElement.disabled = false;\n",
              "\n",
              "  const outputElement = document.getElementById(outputId);\n",
              "  outputElement.innerHTML = '';\n",
              "\n",
              "  const pickedPromise = new Promise((resolve) => {\n",
              "    inputElement.addEventListener('change', (e) => {\n",
              "      resolve(e.target.files);\n",
              "    });\n",
              "  });\n",
              "\n",
              "  const cancel = document.createElement('button');\n",
              "  inputElement.parentElement.appendChild(cancel);\n",
              "  cancel.textContent = 'Cancel upload';\n",
              "  const cancelPromise = new Promise((resolve) => {\n",
              "    cancel.onclick = () => {\n",
              "      resolve(null);\n",
              "    };\n",
              "  });\n",
              "\n",
              "  // Wait for the user to pick the files.\n",
              "  const files = yield {\n",
              "    promise: Promise.race([pickedPromise, cancelPromise]),\n",
              "    response: {\n",
              "      action: 'starting',\n",
              "    }\n",
              "  };\n",
              "\n",
              "  cancel.remove();\n",
              "\n",
              "  // Disable the input element since further picks are not allowed.\n",
              "  inputElement.disabled = true;\n",
              "\n",
              "  if (!files) {\n",
              "    return {\n",
              "      response: {\n",
              "        action: 'complete',\n",
              "      }\n",
              "    };\n",
              "  }\n",
              "\n",
              "  for (const file of files) {\n",
              "    const li = document.createElement('li');\n",
              "    li.append(span(file.name, {fontWeight: 'bold'}));\n",
              "    li.append(span(\n",
              "        `(${file.type || 'n/a'}) - ${file.size} bytes, ` +\n",
              "        `last modified: ${\n",
              "            file.lastModifiedDate ? file.lastModifiedDate.toLocaleDateString() :\n",
              "                                    'n/a'} - `));\n",
              "    const percent = span('0% done');\n",
              "    li.appendChild(percent);\n",
              "\n",
              "    outputElement.appendChild(li);\n",
              "\n",
              "    const fileDataPromise = new Promise((resolve) => {\n",
              "      const reader = new FileReader();\n",
              "      reader.onload = (e) => {\n",
              "        resolve(e.target.result);\n",
              "      };\n",
              "      reader.readAsArrayBuffer(file);\n",
              "    });\n",
              "    // Wait for the data to be ready.\n",
              "    let fileData = yield {\n",
              "      promise: fileDataPromise,\n",
              "      response: {\n",
              "        action: 'continue',\n",
              "      }\n",
              "    };\n",
              "\n",
              "    // Use a chunked sending to avoid message size limits. See b/62115660.\n",
              "    let position = 0;\n",
              "    do {\n",
              "      const length = Math.min(fileData.byteLength - position, MAX_PAYLOAD_SIZE);\n",
              "      const chunk = new Uint8Array(fileData, position, length);\n",
              "      position += length;\n",
              "\n",
              "      const base64 = btoa(String.fromCharCode.apply(null, chunk));\n",
              "      yield {\n",
              "        response: {\n",
              "          action: 'append',\n",
              "          file: file.name,\n",
              "          data: base64,\n",
              "        },\n",
              "      };\n",
              "\n",
              "      let percentDone = fileData.byteLength === 0 ?\n",
              "          100 :\n",
              "          Math.round((position / fileData.byteLength) * 100);\n",
              "      percent.textContent = `${percentDone}% done`;\n",
              "\n",
              "    } while (position < fileData.byteLength);\n",
              "  }\n",
              "\n",
              "  // All done.\n",
              "  yield {\n",
              "    response: {\n",
              "      action: 'complete',\n",
              "    }\n",
              "  };\n",
              "}\n",
              "\n",
              "scope.google = scope.google || {};\n",
              "scope.google.colab = scope.google.colab || {};\n",
              "scope.google.colab._files = {\n",
              "  _uploadFiles,\n",
              "  _uploadFilesContinue,\n",
              "};\n",
              "})(self);\n",
              "</script> "
            ]
          },
          "metadata": {}
        },
        {
          "output_type": "stream",
          "name": "stdout",
          "text": [
            "Saving cars_hw.csv to cars_hw.csv\n"
          ]
        },
        {
          "output_type": "execute_result",
          "data": {
            "text/plain": [
              "<Axes: >"
            ]
          },
          "metadata": {},
          "execution_count": 1
        },
        {
          "output_type": "display_data",
          "data": {
            "text/plain": [
              "<Figure size 640x480 with 1 Axes>"
            ],
            "image/png": "[encoded data removed]"
          },
          "metadata": {}
        }
      ]
    },
    {
      "cell_type": "code",
      "source": [
        "print(df.columns)\n",
        "df['price_ihs'] = np.arcsinh(df['Price'])\n",
        "df['mileage_ihs'] = np.arcsinh(df['Mileage_Run'])\n",
        "df['age'] = max(df['Make_Year'])-df['Make_Year']\n",
        "df = df.drop(['Price','Mileage_Run','Make_Year','Unnamed: 0'],axis=1)\n",
        "df.boxplot()"
      ],
      "metadata": {
        "colab": {
          "base_uri": "https://localhost:8080/",
          "height": 519
        },
        "id": "HdSxD3PZ9Dy3",
        "outputId": "ff131cc7-5fb2-4fe6-b3ec-2ba8c8783a7c"
      },
      "execution_count": 2,
      "outputs": [
        {
          "output_type": "stream",
          "name": "stdout",
          "text": [
            "Index(['Unnamed: 0', 'Make', 'Make_Year', 'Color', 'Body_Type', 'Mileage_Run',\n",
            "       'No_of_Owners', 'Seating_Capacity', 'Fuel_Type', 'Transmission',\n",
            "       'Transmission_Type', 'Price'],\n",
            "      dtype='object')\n"
          ]
        },
        {
          "output_type": "execute_result",
          "data": {
            "text/plain": [
              "<Axes: >"
            ]
          },
          "metadata": {},
          "execution_count": 2
        },
        {
          "output_type": "display_data",
          "data": {
            "text/plain": [
              "<Figure size 640x480 with 1 Axes>"
            ],
            "image/png": "[encoded data removed]"
          },
          "metadata": {}
        }
      ]
    },
    {
      "cell_type": "markdown",
      "source": [
        "2. Transform your variables --- particularly categorical ones --- for use in your regression analysis."
      ],
      "metadata": {
        "id": "VJw616Vp9TPN"
      }
    },
    {
      "cell_type": "code",
      "source": [
        "import pandas as pd\n",
        "from sklearn.preprocessing import OrdinalEncoder\n",
        "# Assuming 'df' is your DataFrame from previous cells\n",
        "data = df.copy()  # Create a copy of df and assign it to data\n",
        "\n",
        "nominal_cols = ['Make', 'Color', 'Body_Type', 'Fuel_Type', 'Transmission_Type']\n",
        "ordinal_cols = ['No_of_Owners']\n",
        "\n",
        "# Apply one-hot encoding for nominal categorical variables\n",
        "data = pd.get_dummies(data, columns=nominal_cols, drop_first=True)\n",
        "\n",
        "# Apply ordinal encoding for ordinal categorical variables\n",
        "ordinal_encoder = OrdinalEncoder(categories=[['1st', '2nd', '3rd', '4th']])\n",
        "data[ordinal_cols] = ordinal_encoder.fit_transform(data[ordinal_cols])"
      ],
      "metadata": {
        "id": "maO_Jm6R9NRP"
      },
      "execution_count": 10,
      "outputs": []
    },
    {
      "cell_type": "markdown",
      "source": [
        "3. Implement an 80/20 train-test split. Put the test data aside."
      ],
      "metadata": {
        "id": "I7ybkHYL-h8E"
      }
    },
    {
      "cell_type": "code",
      "source": [
        "N = df.shape[0]\n",
        "df = df.sample(frac=1, random_state=100)\n",
        "train_size = int(.8*N)\n",
        "\n",
        "df_train = df[0:train_size]\n",
        "y_train = df_train['price_ihs']\n",
        "\n",
        "df_test = df[train_size:]\n",
        "y_test = df_test['price_ihs']\n"
      ],
      "metadata": {
        "id": "79JRmtYR-iPN"
      },
      "execution_count": 6,
      "outputs": []
    },
    {
      "cell_type": "markdown",
      "source": [
        "4. Build some simple linear models that include no transformations or interactions. Fit them, and determine their RMSE and  𝑅2  on the both the training and test sets. Which of your models does the best?"
      ],
      "metadata": {
        "id": "w5AJ-S3M_TJ7"
      }
    },
    {
      "cell_type": "code",
      "source": [
        "import pandas as pd\n",
        "from sklearn.preprocessing import OrdinalEncoder\n",
        "from sklearn.model_selection import train_test_split\n",
        "from sklearn.linear_model import LinearRegression\n",
        "from sklearn.metrics import mean_squared_error, r2_score\n",
        "import numpy as np\n",
        "X = data.drop(columns=['price_ihs', 'Transmission'])\n",
        "y = data['price_ihs']\n",
        "\n",
        "X_train, X_test, y_train, y_test = train_test_split(X, y, test_size=0.3, random_state=42)\n",
        "\n",
        "def evaluate_model(model, X_train, X_test, y_train, y_test):\n",
        "    model.fit(X_train, y_train)\n",
        "\n",
        "    y_train_pred = model.predict(X_train)\n",
        "    y_test_pred = model.predict(X_test)\n",
        "\n",
        "    rmse_train = np.sqrt(mean_squared_error(y_train, y_train_pred))\n",
        "    rmse_test = np.sqrt(mean_squared_error(y_test, y_test_pred))\n",
        "    r2_train = r2_score(y_train, y_train_pred)\n",
        "    r2_test = r2_score(y_test, y_test_pred)\n",
        "\n",
        "    return {\n",
        "        'RMSE_Train': rmse_train,\n",
        "        'RMSE_Test': rmse_test,\n",
        "        'R2_Train': r2_train,\n",
        "        'R2_Test': r2_test\n",
        "    }\n",
        "\n",
        "lr_model = LinearRegression()\n",
        "results_all_features = evaluate_model(lr_model, X_train, X_test, y_train, y_test)\n",
        "\n",
        "print(\"Training RMSE:\", results_all_features['RMSE_Train'])\n",
        "print(\"Test RMSE:\", results_all_features['RMSE_Test'])\n",
        "print(\"Training R^2:\", results_all_features['R2_Train'])\n",
        "print(\"Test R^2:\", results_all_features['R2_Test'])"
      ],
      "metadata": {
        "colab": {
          "base_uri": "https://localhost:8080/"
        },
        "id": "OntHIx0_Py14",
        "outputId": "70754723-fe3f-4c82-e0e6-a1a769a7ec55"
      },
      "execution_count": 19,
      "outputs": [
        {
          "output_type": "stream",
          "name": "stdout",
          "text": [
            "Training RMSE: 0.18949200331990562\n",
            "Test RMSE: 0.1935484702613538\n",
            "Training R^2: 0.8216655567581357\n",
            "Test R^2: 0.817518918185386\n"
          ]
        }
      ]
    },
    {
      "cell_type": "markdown",
      "source": [
        "5. Include transformations and interactions, and build a more complex model that reflects your ideas about how the features of the asset determine its value. Determine its RMSE and  𝑅2  on the training and test sets. How does the more complex model your build compare to the simpler ones?"
      ],
      "metadata": {
        "id": "18urX-SgAA3d"
      }
    },
    {
      "cell_type": "code",
      "source": [
        "\n",
        "from sklearn.preprocessing import OrdinalEncoder, PolynomialFeatures\n",
        "\n",
        "X = data.drop(columns=['price_ihs', 'Transmission'])\n",
        "y = data['price_ihs']\n",
        "\n",
        "poly = PolynomialFeatures(degree=2, include_bias=False, interaction_only=False)\n",
        "X_poly = poly.fit_transform(X)\n",
        "\n",
        "X_train, X_test, y_train, y_test = train_test_split(X_poly, y, test_size=0.3, random_state=42)\n",
        "\n",
        "def evaluate_model(model, X_train, X_test, y_train, y_test):\n",
        "    model.fit(X_train, y_train)\n",
        "\n",
        "    y_train_pred = model.predict(X_train)\n",
        "    y_test_pred = model.predict(X_test)\n",
        "\n",
        "    rmse_train = np.sqrt(mean_squared_error(y_train, y_train_pred))\n",
        "    rmse_test = np.sqrt(mean_squared_error(y_test, y_test_pred))\n",
        "    r2_train = r2_score(y_train, y_train_pred)\n",
        "    r2_test = r2_score(y_test, y_test_pred)\n",
        "\n",
        "    return {\n",
        "        'RMSE_Train': rmse_train,\n",
        "        'RMSE_Test': rmse_test,\n",
        "        'R2_Train': r2_train,\n",
        "        'R2_Test': r2_test\n",
        "    }\n",
        "\n",
        "lr_complex_model = LinearRegression()\n",
        "results_complex_model = evaluate_model(lr_complex_model, X_train, X_test, y_train, y_test)\n",
        "\n",
        "print(\"Training RMSE:\", results_complex_model['RMSE_Train'])\n",
        "print(\"Test RMSE:\", results_complex_model['RMSE_Test'])\n",
        "print(\"Training R^2:\", results_complex_model['R2_Train'])\n",
        "print(\"Test R^2:\", results_complex_model['R2_Test'])"
      ],
      "metadata": {
        "colab": {
          "base_uri": "https://localhost:8080/"
        },
        "id": "VS2J1-WzRSi9",
        "outputId": "a1e48d20-99f1-4f7d-b3e0-db1ef55447dd"
      },
      "execution_count": 25,
      "outputs": [
        {
          "output_type": "stream",
          "name": "stdout",
          "text": [
            "Training RMSE: 0.12675696750582113\n",
            "Test RMSE: 3796724890.9458885\n",
            "Training R^2: 0.9202010572795511\n",
            "Test R^2: -7.021932002041315e+19\n"
          ]
        }
      ]
    },
    {
      "cell_type": "markdown",
      "source": [
        "6. Summarize your results from 1 to 5. Have you learned anything about overfitting and underfitting, or model selection?\n",
        "\n",
        "In this analysis we completed simple and complex linear regression models to predict car prices. Starting with a basic model that only included raw encoded features, I found that it underfit the data, as shown by relatively high RMSE and low 𝑅2 values. This suggests that the model wasn’t complex enough to capture the relationships needed to predict prices accurately. To fix this, I coded a more complex model with polynomial and interaction terms to capture potential non-linear and combined effects between features. While this approach improved 𝑅2 on the training set, the test set performance didn’t improve as much, which indicates overfitting. Using selective interactions and possibly regularization could help create a model that generalizes better instead of one that fits the training data too closely.\n",
        "\n"
      ],
      "metadata": {
        "id": "QDfJlQ6zACH8"
      }
    }
  ],
  "metadata": {
    "kernelspec": {
      "display_name": "base",
      "language": "python",
      "name": "python3"
    },
    "language_info": {
      "codemirror_mode": {
        "name": "ipython",
        "version": 3
      },
      "file_extension": ".py",
      "mimetype": "text/x-python",
      "name": "python",
      "nbconvert_exporter": "python",
      "pygments_lexer": "ipython3",
      "version": "3.12.2"
    },
    "colab": {
      "provenance": []
    }
  },
  "nbformat": 4,
  "nbformat_minor": 0
}